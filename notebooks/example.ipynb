{
 "cells": [
  {
   "cell_type": "code",
   "execution_count": null,
   "id": "3551ac3e-273f-4897-bbd1-c8d6c1ae05eb",
   "metadata": {},
   "outputs": [],
   "source": [
    "from jmespath_proxy.app import apply_jmespath_expression"
   ]
  },
  {
   "cell_type": "code",
   "execution_count": null,
   "id": "0074d09a-220f-4dc4-a4fe-607e1342e1e2",
   "metadata": {},
   "outputs": [],
   "source": [
    "body_data = {\n",
    "    \"alerts\": [\n",
    "        {\n",
    "            \"status\": \"firing\",\n",
    "            \"labels\": {\"alertname\": \"Test1\", \"instance\": \"localhost:9090\"},\n",
    "        },\n",
    "        {\n",
    "            \"status\": \"resolved\",\n",
    "            \"labels\": {\"alertname\": \"Test2\", \"instance\": \"localhost:9091\"},\n",
    "        },\n",
    "    ]\n",
    "}\n",
    "\n",
    "# Query parameters to include in the context\n",
    "query_params = {\"source\": \"test-source\"}"
   ]
  },
  {
   "cell_type": "code",
   "execution_count": null,
   "id": "d267c953-6e43-4f02-a049-bc54762b60a7",
   "metadata": {},
   "outputs": [],
   "source": [
    "# Apply the expression\n",
    "result, error = apply_jmespath_expression(\n",
    "    \"\"\"\n",
    "{\n",
    "  alerts: body.alerts[*].{\n",
    "    status: status,\n",
    "    labels: merge(labels, `{\"new_label_1\": \"value1\"}`, {source: $.query_params.source})\n",
    "  }\n",
    "}\n",
    "\"\"\",\n",
    "    body_data,\n",
    "    query_params,\n",
    ")\n",
    "display(result)\n",
    "display(error)"
   ]
  }
 ],
 "metadata": {
  "kernelspec": {
   "display_name": "jmespath-proxy",
   "language": "python",
   "name": "jmespath-proxy"
  },
  "language_info": {
   "codemirror_mode": {
    "name": "ipython",
    "version": 3
   },
   "file_extension": ".py",
   "mimetype": "text/x-python",
   "name": "python",
   "nbconvert_exporter": "python",
   "pygments_lexer": "ipython3",
   "version": "3.13.2"
  }
 },
 "nbformat": 4,
 "nbformat_minor": 5
}
